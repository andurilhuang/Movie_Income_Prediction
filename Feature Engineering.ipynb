{
 "cells": [
  {
   "cell_type": "code",
   "execution_count": 1,
   "metadata": {
    "collapsed": true
   },
   "outputs": [],
   "source": [
    "import numpy as np\n",
    "import pandas as pd\n",
    "import matplotlib.pyplot as plt\n",
    "%matplotlib inline"
   ]
  },
  {
   "cell_type": "code",
   "execution_count": 2,
   "metadata": {},
   "outputs": [],
   "source": [
    "df = pd.read_csv(\"FinalMerge.csv\",encoding=\"latin1\")"
   ]
  },
  {
   "cell_type": "code",
   "execution_count": 3,
   "metadata": {
    "scrolled": false
   },
   "outputs": [
    {
     "data": {
      "text/plain": [
       "Unnamed: 0       0\n",
       "imdb_id          0\n",
       "X.x              0\n",
       "Actors           1\n",
       "Country          0\n",
       "Director         1\n",
       "Genre            1\n",
       "IMDB.Rating      1\n",
       "IMDB.Votes       1\n",
       "Language         2\n",
       "Production     157\n",
       "Rated          198\n",
       "Released         0\n",
       "Runtime          6\n",
       "Title            0\n",
       "Year             0\n",
       "X.y              0\n",
       "budget           0\n",
       "revenue          0\n",
       "dtype: int64"
      ]
     },
     "execution_count": 3,
     "metadata": {},
     "output_type": "execute_result"
    }
   ],
   "source": [
    "df.isnull().sum()"
   ]
  },
  {
   "cell_type": "code",
   "execution_count": 4,
   "metadata": {},
   "outputs": [],
   "source": [
    "df_1 = df.drop([\"Unnamed: 0\",\"imdb_id\",\"X.x\",\"X.y\"],axis=1)"
   ]
  },
  {
   "cell_type": "code",
   "execution_count": 5,
   "metadata": {},
   "outputs": [],
   "source": [
    "numerical_feature = []\n",
    "categorical_feature = []\n",
    "for i in df_1.columns:\n",
    "    if (df_1[i]).dtype == \"int64\" or (df_1[i]).dtype == \"float64\":\n",
    "        numerical_feature.append(i)\n",
    "    else:\n",
    "        categorical_feature.append(i)"
   ]
  },
  {
   "cell_type": "code",
   "execution_count": 6,
   "metadata": {
    "scrolled": true
   },
   "outputs": [
    {
     "name": "stdout",
     "output_type": "stream",
     "text": [
      "['IMDB.Rating', 'Year', 'budget', 'revenue']\n",
      "4\n",
      "-------------------------------------------------\n",
      "['Actors', 'Country', 'Director', 'Genre', 'IMDB.Votes', 'Language', 'Production', 'Rated', 'Released', 'Runtime', 'Title']\n",
      "11\n"
     ]
    }
   ],
   "source": [
    "print(numerical_feature)\n",
    "print(len(numerical_feature))\n",
    "print(\"-------------------------------------------------\")\n",
    "print(categorical_feature)\n",
    "print(len(categorical_feature))"
   ]
  },
  {
   "cell_type": "markdown",
   "metadata": {},
   "source": [
    "## Feature Engineering\n"
   ]
  },
  {
   "cell_type": "markdown",
   "metadata": {},
   "source": [
    "### Actors"
   ]
  },
  {
   "cell_type": "code",
   "execution_count": 14,
   "metadata": {},
   "outputs": [],
   "source": [
    "df_1 = df_1.drop(df_1[df_1[\"Actors\"].isnull()].index)"
   ]
  },
  {
   "cell_type": "markdown",
   "metadata": {},
   "source": [
    "### Country"
   ]
  },
  {
   "cell_type": "code",
   "execution_count": 7,
   "metadata": {},
   "outputs": [],
   "source": [
    "df_1[\"Country\"] = df_1[\"Country\"].map(lambda x: x.split(\",\")[0])"
   ]
  },
  {
   "cell_type": "code",
   "execution_count": 8,
   "metadata": {},
   "outputs": [
    {
     "data": {
      "text/plain": [
       "<matplotlib.axes._subplots.AxesSubplot at 0x1dfee38f278>"
      ]
     },
     "execution_count": 8,
     "metadata": {},
     "output_type": "execute_result"
    },
    {
     "data": {
      "image/png": "[encoded data removed]",
      "text/plain": [
       "<matplotlib.figure.Figure at 0x1dfee375668>"
      ]
     },
     "metadata": {},
     "output_type": "display_data"
    }
   ],
   "source": [
    "(df_1[\"Country\"].value_counts()/df_1.shape[0]).plot.bar(figsize=(16,6))"
   ]
  },
  {
   "cell_type": "markdown",
   "metadata": {},
   "source": [
    "### Director"
   ]
  },
  {
   "cell_type": "code",
   "execution_count": 15,
   "metadata": {
    "collapsed": true
   },
   "outputs": [],
   "source": [
    "df_1 = df_1.drop(df_1[df_1[\"Director\"].isnull()].index)"
   ]
  },
  {
   "cell_type": "markdown",
   "metadata": {},
   "source": [
    "### Genre"
   ]
  },
  {
   "cell_type": "code",
   "execution_count": 16,
   "metadata": {
    "collapsed": true
   },
   "outputs": [],
   "source": [
    "df_1 = df_1.drop(df_1[df_1[\"Genre\"].isnull()].index)"
   ]
  },
  {
   "cell_type": "markdown",
   "metadata": {},
   "source": [
    "### IMDB.Votes"
   ]
  },
  {
   "cell_type": "code",
   "execution_count": 17,
   "metadata": {
    "collapsed": true
   },
   "outputs": [],
   "source": [
    "df_1 = df_1.drop(df_1[df_1[\"IMDB.Votes\"].isnull()].index)"
   ]
  },
  {
   "cell_type": "markdown",
   "metadata": {},
   "source": [
    "### Language"
   ]
  },
  {
   "cell_type": "code",
   "execution_count": 19,
   "metadata": {
    "scrolled": true
   },
   "outputs": [
    {
     "data": {
      "text/plain": [
       "English                                                   1260\n",
       "English, Spanish                                           108\n",
       "English, French                                             60\n",
       "Russian                                                     43\n",
       "Hindi                                                       41\n",
       "English, Ukrainian                                          29\n",
       "English, Russian                                            25\n",
       "English, German                                             23\n",
       "English, Japanese                                           22\n",
       "English, Italian                                            19\n",
       "English, Arabic                                             18\n",
       "French                                                      16\n",
       "Spanish                                                     13\n",
       "English, Mandarin                                           13\n",
       "French, English                                             13\n",
       "Hindi, English                                              13\n",
       "Italian                                                     12\n",
       "Malayalam                                                   12\n",
       "Mandarin                                                    12\n",
       "Tamil                                                       11\n",
       "Japanese                                                    10\n",
       "English, Hebrew                                              8\n",
       "Korean                                                       8\n",
       "English, Portuguese                                          7\n",
       "English, German, Russian                                     6\n",
       "English, French, Italian                                     6\n",
       "English, Russian, Spanish                                    6\n",
       "English, Greek                                               6\n",
       "English, Cantonese                                           6\n",
       "English, Chinese                                             6\n",
       "                                                          ... \n",
       "French, English, Italian, German, Yiddish                    1\n",
       "English, Russian, Czech                                      1\n",
       "English, Korean, Icelandic                                   1\n",
       "English, Korean, Persian, Spanish, Arabic                    1\n",
       "English, Mandarin, Russian                                   1\n",
       "English, Italian, Bosnian                                    1\n",
       "Swedish, Finnish                                             1\n",
       "English, Polish                                              1\n",
       "English, Japanese, Italian, French                           1\n",
       "English, Panjabi                                             1\n",
       "English, Portuguese, Japanese                                1\n",
       "English, German, Ukrainian                                   1\n",
       "Mandarin, English, Hebrew                                    1\n",
       "French, English, Spanish, Mandarin, Arabic                   1\n",
       "English, Polish, German, Arabic, Egyptian (Ancient)          1\n",
       "Dutch, German, English, Hebrew                               1\n",
       "Indonesian                                                   1\n",
       "English, French, Italian, Turkish                            1\n",
       "English, Norse,  Old, Latin                                  1\n",
       "English, Spanish, Swiss German                               1\n",
       "English, French, Albanian, Arabic                            1\n",
       "Serbian                                                      1\n",
       "Mandarin, Cantonese, Japanese                                1\n",
       "English, Arabic, Swedish                                     1\n",
       "English, Afrikaans, Maori, Zulu, Xhosa, Southern Sotho       1\n",
       "English, German, Arabic, Urdu                                1\n",
       "Dutch, English, German                                       1\n",
       "English, Greek, French                                       1\n",
       "English, Japanese, Chinese, Arabic                           1\n",
       "English, Romanian, French                                    1\n",
       "Name: Language, Length: 460, dtype: int64"
      ]
     },
     "execution_count": 19,
     "metadata": {},
     "output_type": "execute_result"
    }
   ],
   "source": [
    "# df['State'] = df.area.apply(lambda x: x.split(',')[1] if len(x.split(','))>1 else '')\n",
    "df_1[\"Language\"] = df_1[\"Language\"].replace(np.nan,\"None\")\n",
    "df_1[\"Language\"].value_counts()"
   ]
  },
  {
   "cell_type": "code",
   "execution_count": 20,
   "metadata": {
    "scrolled": true
   },
   "outputs": [],
   "source": [
    "df_1 = df_1.drop(df_1[df_1[\"Language\"].isnull()].index)"
   ]
  },
  {
   "cell_type": "code",
   "execution_count": null,
   "metadata": {
    "collapsed": true
   },
   "outputs": [],
   "source": []
  },
  {
   "cell_type": "markdown",
   "metadata": {},
   "source": [
    "### Production"
   ]
  },
  {
   "cell_type": "code",
   "execution_count": 21,
   "metadata": {},
   "outputs": [
    {
     "data": {
      "text/plain": [
       "<matplotlib.axes._subplots.AxesSubplot at 0x1dfedfe2da0>"
      ]
     },
     "execution_count": 21,
     "metadata": {},
     "output_type": "execute_result"
    },
    {
     "data": {
      "image/png": "[encoded data removed]",
      "text/plain": [
       "<matplotlib.figure.Figure at 0x1dfedfe2358>"
      ]
     },
     "metadata": {},
     "output_type": "display_data"
    }
   ],
   "source": [
    "df_1[\"Production\"] = df_1[\"Production\"].replace(np.nan, \"Unknown\")\\\n",
    "                    .map(lambda x: x.split(\" \")[0] if len(x) > 1 else x)\n",
    "(df_1[\"Production\"].value_counts()/df_1.shape[0])[:20].plot.bar(figsize=(16,6))\n",
    "#df_1[\"Production\"].map(lambda x: x.split(\" \")[0])"
   ]
  },
  {
   "cell_type": "code",
   "execution_count": 22,
   "metadata": {},
   "outputs": [
    {
     "data": {
      "text/plain": [
       "309"
      ]
     },
     "execution_count": 22,
     "metadata": {},
     "output_type": "execute_result"
    }
   ],
   "source": [
    "# high cardinality: may use frequency encoding\n",
    "df_1[\"Production\"].nunique()"
   ]
  },
  {
   "cell_type": "markdown",
   "metadata": {},
   "source": [
    "### Rated"
   ]
  },
  {
   "cell_type": "code",
   "execution_count": 23,
   "metadata": {},
   "outputs": [
    {
     "data": {
      "text/plain": [
       "<matplotlib.axes._subplots.AxesSubplot at 0x1dfee05d4a8>"
      ]
     },
     "execution_count": 23,
     "metadata": {},
     "output_type": "execute_result"
    },
    {
     "data": {
      "image/png": "[encoded data removed]",
      "text/plain": [
       "<matplotlib.figure.Figure at 0x1dfedf13fd0>"
      ]
     },
     "metadata": {},
     "output_type": "display_data"
    }
   ],
   "source": [
    "df_1[\"Rated\"].value_counts().plot.bar()"
   ]
  },
  {
   "cell_type": "code",
   "execution_count": 24,
   "metadata": {},
   "outputs": [],
   "source": [
    "df_1[\"Rated\"] = df_1[\"Rated\"].replace(np.nan, \"UNRATED\")\\\n",
    "            .replace(\"NOT RATED\", \"UNRATED\")"
   ]
  },
  {
   "cell_type": "markdown",
   "metadata": {},
   "source": [
    "### Released"
   ]
  },
  {
   "cell_type": "code",
   "execution_count": null,
   "metadata": {
    "scrolled": true
   },
   "outputs": [],
   "source": [
    "df_1[\"Released\"]"
   ]
  },
  {
   "cell_type": "markdown",
   "metadata": {},
   "source": [
    "### Runtime"
   ]
  },
  {
   "cell_type": "code",
   "execution_count": 25,
   "metadata": {},
   "outputs": [],
   "source": [
    "df_1 = df_1.drop(df_1[df_1[\"Runtime\"].isnull()].index)"
   ]
  },
  {
   "cell_type": "code",
   "execution_count": 26,
   "metadata": {},
   "outputs": [
    {
     "data": {
      "text/plain": [
       "0"
      ]
     },
     "execution_count": 26,
     "metadata": {},
     "output_type": "execute_result"
    }
   ],
   "source": [
    "df_1[\"Runtime\"].isnull().sum()"
   ]
  },
  {
   "cell_type": "code",
   "execution_count": 27,
   "metadata": {},
   "outputs": [],
   "source": [
    "df_1[\"Runtime\"] = df_1[\"Runtime\"].map(lambda x:int(x.strip(\"min\")))"
   ]
  },
  {
   "cell_type": "markdown",
   "metadata": {},
   "source": [
    "### Title"
   ]
  },
  {
   "cell_type": "code",
   "execution_count": 31,
   "metadata": {
    "collapsed": true
   },
   "outputs": [],
   "source": [
    "df_1.drop(\"Title\", axis=1, inplace=True)"
   ]
  },
  {
   "cell_type": "markdown",
   "metadata": {},
   "source": [
    "### IMDB.Rating"
   ]
  },
  {
   "cell_type": "code",
   "execution_count": 28,
   "metadata": {},
   "outputs": [],
   "source": [
    "df_1 = df_1.drop(df_1[\"IMDB.Rating\"].isnull().index)"
   ]
  },
  {
   "cell_type": "code",
   "execution_count": 29,
   "metadata": {},
   "outputs": [
    {
     "data": {
      "text/plain": [
       "0"
      ]
     },
     "execution_count": 29,
     "metadata": {},
     "output_type": "execute_result"
    }
   ],
   "source": [
    "df_1[\"IMDB.Rating\"].isnull().sum()"
   ]
  },
  {
   "cell_type": "markdown",
   "metadata": {},
   "source": [
    "### Year"
   ]
  },
  {
   "cell_type": "code",
   "execution_count": null,
   "metadata": {
    "collapsed": true
   },
   "outputs": [],
   "source": [
    "# may train 2006-2012 and test 2013-2016"
   ]
  },
  {
   "cell_type": "markdown",
   "metadata": {},
   "source": [
    "### budget"
   ]
  },
  {
   "cell_type": "code",
   "execution_count": null,
   "metadata": {
    "collapsed": true
   },
   "outputs": [],
   "source": []
  },
  {
   "cell_type": "markdown",
   "metadata": {},
   "source": [
    "### revenue"
   ]
  },
  {
   "cell_type": "code",
   "execution_count": 30,
   "metadata": {},
   "outputs": [
    {
     "data": {
      "text/plain": [
       "Actors         0.0\n",
       "Country        0.0\n",
       "Director       0.0\n",
       "Genre          0.0\n",
       "IMDB.Rating    0.0\n",
       "IMDB.Votes     0.0\n",
       "Language       0.0\n",
       "Production     0.0\n",
       "Rated          0.0\n",
       "Released       0.0\n",
       "Runtime        0.0\n",
       "Title          0.0\n",
       "Year           0.0\n",
       "budget         0.0\n",
       "revenue        0.0\n",
       "dtype: float64"
      ]
     },
     "execution_count": 30,
     "metadata": {},
     "output_type": "execute_result"
    }
   ],
   "source": [
    "df_1.isnull().sum()"
   ]
  },
  {
   "cell_type": "code",
   "execution_count": null,
   "metadata": {
    "collapsed": true
   },
   "outputs": [],
   "source": []
  },
  {
   "cell_type": "code",
   "execution_count": null,
   "metadata": {
    "collapsed": true
   },
   "outputs": [],
   "source": []
  },
  {
   "cell_type": "code",
   "execution_count": null,
   "metadata": {
    "collapsed": true
   },
   "outputs": [],
   "source": []
  },
  {
   "cell_type": "code",
   "execution_count": null,
   "metadata": {
    "collapsed": true
   },
   "outputs": [],
   "source": []
  },
  {
   "cell_type": "code",
   "execution_count": null,
   "metadata": {
    "collapsed": true
   },
   "outputs": [],
   "source": []
  },
  {
   "cell_type": "code",
   "execution_count": null,
   "metadata": {
    "collapsed": true
   },
   "outputs": [],
   "source": []
  }
 ],
 "metadata": {
  "kernelspec": {
   "display_name": "Python 3",
   "language": "python",
   "name": "python3"
  },
  "language_info": {
   "codemirror_mode": {
    "name": "ipython",
    "version": 3
   },
   "file_extension": ".py",
   "mimetype": "text/x-python",
   "name": "python",
   "nbconvert_exporter": "python",
   "pygments_lexer": "ipython3",
   "version": "3.6.1"
  }
 },
 "nbformat": 4,
 "nbformat_minor": 2
}
