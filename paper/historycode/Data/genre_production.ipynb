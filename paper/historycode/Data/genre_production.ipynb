{
 "cells": [
  {
   "cell_type": "code",
   "execution_count": 167,
   "metadata": {
    "collapsed": true
   },
   "outputs": [],
   "source": [
    "import pandas as pd"
   ]
  },
  {
   "cell_type": "code",
   "execution_count": 197,
   "metadata": {
    "collapsed": false
   },
   "outputs": [],
   "source": [
    "df = pd.read_csv(\"FinalMerge.csv\", encoding=\"latin1\")\n",
    "#df.shape 2384, 19\n",
    "df['Production'] = df['Production'].str.split(' ').str.get(0)\n",
    "#df.groupby('Production')['Production'].count()\n",
    "#prod = df.Production.unique()\n",
    "#print(prod)\n",
    "#len(prod)\n",
    "# 312 Production companies\n",
    "\n",
    "df = pd.concat([df, df['Genre'].str.get_dummies(sep=', ')], axis=1) \n",
    "#df.shape  2384, 42\n",
    "#list(df[df.columns[19:42]])"
   ]
  },
  {
   "cell_type": "code",
   "execution_count": 198,
   "metadata": {
    "collapsed": false,
    "scrolled": false
   },
   "outputs": [
    {
     "data": {
      "text/plain": [
       "(2384, 32)"
      ]
     },
     "execution_count": 198,
     "metadata": {},
     "output_type": "execute_result"
    }
   ],
   "source": [
    "df['Thriller'] = df[['Thriller', 'Horror']].sum(axis=1)\n",
    "df['Fantasy'] = df[['Fantasy', 'Sci-Fi']].sum(axis=1)\n",
    "df['Other'] = df[['Music', 'History', 'Sport', 'War', 'Western', 'Musical', 'Documentary', 'News', 'Short']].sum(axis=1)\n",
    "df.drop(['Music', 'History', 'Sport', 'War', 'Western', 'Musical', 'Documentary', 'News', 'Short', 'Horror', 'Sci-Fi'], axis=1, inplace=True)\n",
    "#df.shape 2384 32\n",
    "#df"
   ]
  },
  {
   "cell_type": "code",
   "execution_count": 206,
   "metadata": {
    "collapsed": false
   },
   "outputs": [
    {
     "name": "stdout",
     "output_type": "stream",
     "text": [
      "Action\n",
      "0    1744\n",
      "1     640\n",
      "Name: Action, dtype: int64\n",
      "Adventure\n",
      "0    1875\n",
      "1     509\n",
      "Name: Adventure, dtype: int64\n",
      "Animation\n",
      "0    2215\n",
      "1     169\n",
      "Name: Animation, dtype: int64\n",
      "Biography\n",
      "0    2212\n",
      "1     172\n",
      "Name: Biography, dtype: int64\n",
      "Comedy\n",
      "0    1542\n",
      "1     842\n",
      "Name: Comedy, dtype: int64\n",
      "Crime\n",
      "0    1971\n",
      "1     413\n",
      "Name: Crime, dtype: int64\n",
      "Drama\n",
      "1    1234\n",
      "0    1150\n",
      "Name: Drama, dtype: int64\n",
      "Family\n",
      "0    2226\n",
      "1     158\n",
      "Name: Family, dtype: int64\n",
      "Fantasy\n",
      "0    2023\n",
      "1     361\n",
      "Name: Fantasy, dtype: int64\n",
      "Mystery\n",
      "0    2177\n",
      "1     207\n",
      "Name: Mystery, dtype: int64\n",
      "Romance\n",
      "0    1990\n",
      "1     394\n",
      "Name: Romance, dtype: int64\n",
      "Thriller\n",
      "0    1841\n",
      "1     543\n",
      "Name: Thriller, dtype: int64\n",
      "Other\n",
      "0    2104\n",
      "1     280\n",
      "Name: Other, dtype: int64\n"
     ]
    }
   ],
   "source": [
    "variables = list(df)[19:32]\n",
    "for x in variables:\n",
    "    #print(x)\n",
    "    df.loc[df['%s' % x] > 1, '%s' % x] = 1\n",
    "    #print(df['%s' % x].value_counts())"
   ]
  },
  {
   "cell_type": "code",
   "execution_count": 204,
   "metadata": {
    "collapsed": false
   },
   "outputs": [
    {
     "data": {
      "text/plain": [
       "0    2104\n",
       "1     280\n",
       "Name: Other, dtype: int64"
      ]
     },
     "execution_count": 204,
     "metadata": {},
     "output_type": "execute_result"
    }
   ],
   "source": []
  },
  {
   "cell_type": "code",
   "execution_count": null,
   "metadata": {
    "collapsed": true
   },
   "outputs": [],
   "source": []
  }
 ],
 "metadata": {
  "anaconda-cloud": {},
  "kernelspec": {
   "display_name": "Python [default]",
   "language": "python",
   "name": "python3"
  },
  "language_info": {
   "codemirror_mode": {
    "name": "ipython",
    "version": 3
   },
   "file_extension": ".py",
   "mimetype": "text/x-python",
   "name": "python",
   "nbconvert_exporter": "python",
   "pygments_lexer": "ipython3",
   "version": "3.5.2"
  }
 },
 "nbformat": 4,
 "nbformat_minor": 1
}
