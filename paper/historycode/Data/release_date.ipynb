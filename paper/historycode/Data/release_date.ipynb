{
 "cells": [
  {
   "cell_type": "code",
   "execution_count": 1,
   "metadata": {
    "collapsed": true
   },
   "outputs": [],
   "source": [
    "import pandas as pd\n",
    "import datetime"
   ]
  },
  {
   "cell_type": "code",
   "execution_count": 2,
   "metadata": {
    "collapsed": true
   },
   "outputs": [],
   "source": [
    "data = pd.read_csv('FinalMerge.csv',encoding='latin1')"
   ]
  },
  {
   "cell_type": "code",
   "execution_count": 3,
   "metadata": {
    "collapsed": true
   },
   "outputs": [],
   "source": [
    "# index of released date col\n",
    "index = data.columns.get_loc(\"Released\")\n",
    "#change date data to timestamp\n",
    "date_list = pd.to_datetime(data[\"Released\"])"
   ]
  },
  {
   "cell_type": "code",
   "execution_count": 4,
   "metadata": {
    "collapsed": true
   },
   "outputs": [],
   "source": [
    "# released date is weekend of not\n",
    "weekend_list = []\n",
    "for each in date_list:\n",
    "    day_ofweek = each.dayofweek\n",
    "    if day_ofweek >= 4 and day_ofweek <= 6:\n",
    "        tag = 1\n",
    "    else:\n",
    "        tag = 0\n",
    "    weekend_list.append(tag)"
   ]
  },
  {
   "cell_type": "code",
   "execution_count": 5,
   "metadata": {},
   "outputs": [],
   "source": [
    "# released date is on dump months\n",
    "dumpmonth_list = []\n",
    "for each in date_list:\n",
    "    month = each.month\n",
    "    if month == 1 or month == 2 or month == 8 or month ==9:\n",
    "        tag = 1\n",
    "    else:\n",
    "        tag = 0\n",
    "    dumpmonth_list.append(tag)"
   ]
  },
  {
   "cell_type": "code",
   "execution_count": 6,
   "metadata": {},
   "outputs": [],
   "source": [
    "data.insert(loc=index+1,column = \"Released on weekend\",value=weekend_list)\n",
    "data.insert(loc=index+2,column = \"Released on dump month\",value=dumpmonth_list)\n",
    "data.to_csv(\"FinalMerge_updateson_releaseddate.csv\")"
   ]
  }
 ],
 "metadata": {
  "kernelspec": {
   "display_name": "Python 3",
   "language": "python",
   "name": "python3"
  },
  "language_info": {
   "codemirror_mode": {
    "name": "ipython",
    "version": 3
   },
   "file_extension": ".py",
   "mimetype": "text/x-python",
   "name": "python",
   "nbconvert_exporter": "python",
   "pygments_lexer": "ipython3",
   "version": "3.6.2"
  }
 },
 "nbformat": 4,
 "nbformat_minor": 2
}
